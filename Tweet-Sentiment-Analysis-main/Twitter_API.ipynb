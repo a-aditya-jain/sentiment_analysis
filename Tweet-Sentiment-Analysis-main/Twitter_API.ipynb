{
 "cells": [
  {
   "cell_type": "code",
   "execution_count": 10,
   "metadata": {},
   "outputs": [],
   "source": [
    "import tweepy as tw\n",
    "import numpy as numpy\n",
    "import pandas as pd\n",
    "from matplotlib import pyplot as pyplot "
   ]
  },
  {
   "cell_type": "code",
   "execution_count": 11,
   "metadata": {},
   "outputs": [],
   "source": [
    "consumer_key = '7NWkPzDOBEFl9cdgQIHTMgsaP'\n",
    "consumer_secret = 'G1ld9k0rnutk5CL05wENmBewcsxQF7mEFE5OwNrpLrAaXKME0f'\n",
    "access_token = '1515941908392325123-2wiGGmAZcBCOQ3ZR38VAJE5xQRFr5Q'\n",
    "access_token_secret = 'IR8P3VTDafLmc0DLuNmVTDz6PaOUgdnubCnJ90nYNJbh2' "
   ]
  },
  {
   "cell_type": "code",
   "execution_count": 15,
   "metadata": {},
   "outputs": [],
   "source": [
    "auth = tw.OAuthHandler(consumer_key,consumer_secret)\n",
    "auth.set_access_token(access_token,access_token_secret)\n",
    "api = tw.API(auth,wait_on_rate_limit=True)"
   ]
  },
  {
   "cell_type": "code",
   "execution_count": null,
   "metadata": {},
   "outputs": [],
   "source": [
    "public_tweets = api.home_timeline()\n",
    "for tweet in public_tweets:\n",
    "    print(tweet.text)"
   ]
  },
  {
   "cell_type": "code",
   "execution_count": null,
   "metadata": {},
   "outputs": [],
   "source": [
    "hashtag = '#presidentialdebate'\n",
    "query = tw.Cursor(api.search_tweets, q=hashtag).items(5)\n",
    "tweets = [tweet.full_text for tweet in query]\n",
    "print(tweets)"
   ]
  }
 ],
 "metadata": {
  "kernelspec": {
   "display_name": "Python 3",
   "language": "python",
   "name": "python3"
  },
  "language_info": {
   "codemirror_mode": {
    "name": "ipython",
    "version": 3
   },
   "file_extension": ".py",
   "mimetype": "text/x-python",
   "name": "python",
   "nbconvert_exporter": "python",
   "pygments_lexer": "ipython3",
   "version": "3.10.2"
  },
  "orig_nbformat": 4
 },
 "nbformat": 4,
 "nbformat_minor": 2
}
