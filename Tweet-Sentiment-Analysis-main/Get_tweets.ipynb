{
 "cells": [
  {
   "cell_type": "code",
   "execution_count": 44,
   "metadata": {},
   "outputs": [],
   "source": [
    "import requests\n",
    "import pandas as pd\n",
    " \n",
    "twitter_data = []\n"
   ]
  },
  {
   "cell_type": "code",
   "execution_count": 45,
   "metadata": {},
   "outputs": [],
   "source": [
    "def get_tweets(hashtags):\n",
    "  payload = {\n",
    "   'api_key': 'edc6d09d43197124f674b006cc369230',\n",
    "   'query': hashtags,\n",
    "   'num': '100'\n",
    "    }\n",
    "  response = requests.get(\n",
    "   'https://api.scraperapi.com/structured/twitter/search', params=payload)\n",
    "  data=response.json()\n",
    "  all_tweets = data['organic_results']\n",
    "  for tweet in all_tweets:\n",
    "   twitter_data.append({\n",
    "       'Tweet': tweet[\"snippet\"],\n",
    "           \n",
    "   })\n",
    " \n",
    "  df = pd.DataFrame(twitter_data)\n",
    "  df.to_json('scraped_tweets.json', orient='index')\n",
    "  print('Tweets exported to JSON')\n",
    "  print(hashtags)\n",
    "  df.to_csv('tweets.csv',mode = 'a',header ='column_names')\n"
   ]
  },
  {
   "cell_type": "code",
   "execution_count": 50,
   "metadata": {},
   "outputs": [
    {
     "name": "stdout",
     "output_type": "stream",
     "text": [
      "Tweets exported to JSON\n",
      "#debatenight\n"
     ]
    }
   ],
   "source": [
    "diff_hashtags = ['#debatenight', ]\n",
    "\n",
    "for x in diff_hashtags:\n",
    " get_tweets(x)"
   ]
  }
 ],
 "metadata": {
  "kernelspec": {
   "display_name": "Python 3",
   "language": "python",
   "name": "python3"
  },
  "language_info": {
   "codemirror_mode": {
    "name": "ipython",
    "version": 3
   },
   "file_extension": ".py",
   "mimetype": "text/x-python",
   "name": "python",
   "nbconvert_exporter": "python",
   "pygments_lexer": "ipython3",
   "version": "3.10.2"
  },
  "orig_nbformat": 4
 },
 "nbformat": 4,
 "nbformat_minor": 2
}
